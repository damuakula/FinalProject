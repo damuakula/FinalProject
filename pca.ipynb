{
 "cells": [
  {
   "cell_type": "code",
   "execution_count": 9,
   "metadata": {},
   "outputs": [],
   "source": [
    "from sklearn.decomposition import PCA\n",
    "from sklearn.model_selection import train_test_split\n",
    "from sklearn.preprocessing import scale\n",
    "import pandas as pd\n",
    "import numpy as np"
   ]
  },
  {
   "cell_type": "code",
   "execution_count": 15,
   "metadata": {},
   "outputs": [],
   "source": [
    "states = pd.read_csv('ClusterData.csv')"
   ]
  },
  {
   "cell_type": "code",
   "execution_count": 22,
   "metadata": {},
   "outputs": [
    {
     "data": {
      "text/plain": [
       "array([['Alabama', 'AL', -1.0, ..., 1, 3, 6],\n",
       "       ['Arizona', 'AZ', -0.42, ..., 2, 4, 8],\n",
       "       ['Arkansas', 'AR', -0.66, ..., 1, 3, 7],\n",
       "       ...,\n",
       "       ['West Virginia', 'WV', -0.82, ..., 3, 3, 5],\n",
       "       ['Wisconsin', 'WI', -0.3, ..., 1, 2, 3],\n",
       "       ['Wyoming', 'WY', -1.17, ..., 1, 4, 8]], dtype=object)"
      ]
     },
     "execution_count": 22,
     "metadata": {},
     "output_type": "execute_result"
    }
   ],
   "source": [
    "states.values"
   ]
  },
  {
   "cell_type": "code",
   "execution_count": 23,
   "metadata": {},
   "outputs": [
    {
     "data": {
      "text/plain": [
       "array([[-1.  , -0.13,  1.1 , ...,  1.  ,  3.  ,  6.  ],\n",
       "       [-0.42, -0.73, -0.1 , ...,  2.  ,  4.  ,  8.  ],\n",
       "       [-0.66, -0.39, -0.64, ...,  1.  ,  3.  ,  7.  ],\n",
       "       ...,\n",
       "       [-0.82, -0.65, -0.26, ...,  3.  ,  3.  ,  5.  ],\n",
       "       [-0.3 , -0.19, -0.75, ...,  1.  ,  2.  ,  3.  ],\n",
       "       [-1.17,  0.17,  0.78, ...,  1.  ,  4.  ,  8.  ]])"
      ]
     },
     "execution_count": 23,
     "metadata": {},
     "output_type": "execute_result"
    }
   ],
   "source": [
    "#Include only columns 2 and after in the dataset, exclude first column state for index\n",
    "st = states[data.columns[2:]]\n",
    "\n",
    "#Index using the first column state\n",
    "st.index = states.iloc[:,1]\n",
    "st.values\n",
    "#st.index"
   ]
  },
  {
   "cell_type": "code",
   "execution_count": 39,
   "metadata": {},
   "outputs": [
    {
     "name": "stderr",
     "output_type": "stream",
     "text": [
      "C:\\Users\\Owner\\Anaconda3-2018.12\\envs\\PythonData\\lib\\site-packages\\ipykernel_launcher.py:1: DataConversionWarning: Data with input dtype int64, float64 were all converted to float64 by the scale function.\n",
      "  \"\"\"Entry point for launching an IPython kernel.\n"
     ]
    },
    {
     "data": {
      "text/plain": [
       "array([[-1.03947222, -0.12215486,  1.06864153, ..., -0.9151978 ,\n",
       "         0.38222336,  0.42385059],\n",
       "       [-0.4360755 , -0.74592438, -0.16514785, ...,  0.24084153,\n",
       "         1.34784028,  1.23764373],\n",
       "       [-0.6857569 , -0.39245499, -0.72035307, ..., -0.9151978 ,\n",
       "         0.38222336,  0.83074716],\n",
       "       ...,\n",
       "       [-0.85221117, -0.66275511, -0.3296531 , ...,  1.39688085,\n",
       "         0.38222336,  0.01695402],\n",
       "       [-0.3112348 , -0.18453182, -0.83345043, ..., -0.9151978 ,\n",
       "        -0.58339355, -0.79683911],\n",
       "       [-1.21632988,  0.1897299 ,  0.73963103, ..., -0.9151978 ,\n",
       "         1.34784028,  1.23764373]])"
      ]
     },
     "execution_count": 39,
     "metadata": {},
     "output_type": "execute_result"
    }
   ],
   "source": [
    "X = scale(st)\n",
    "X"
   ]
  },
  {
   "cell_type": "code",
   "execution_count": 40,
   "metadata": {},
   "outputs": [
    {
     "name": "stdout",
     "output_type": "stream",
     "text": [
      "[0.27995802 0.15574368 0.13763548 0.09209084 0.05415634 0.04902283\n",
      " 0.03811369 0.03537194 0.02596663 0.02241087 0.01594096 0.01440317\n",
      " 0.01258607 0.01064748 0.00975164 0.0087497  0.00740666 0.00676069\n",
      " 0.004622   0.0042974  0.0035714  0.00283563 0.00268088 0.00158394\n",
      " 0.00133044 0.00127708 0.00065963 0.0004249 ]\n"
     ]
    }
   ],
   "source": [
    "pca = PCA()\n",
    "pca.fit(X)\n",
    "print(pca.explained_variance_ratio_)"
   ]
  },
  {
   "cell_type": "code",
   "execution_count": 41,
   "metadata": {},
   "outputs": [
    {
     "data": {
      "text/plain": [
       "28"
      ]
     },
     "execution_count": 41,
     "metadata": {},
     "output_type": "execute_result"
    }
   ],
   "source": [
    "pca.n_components_"
   ]
  },
  {
   "cell_type": "code",
   "execution_count": 43,
   "metadata": {},
   "outputs": [
    {
     "data": {
      "text/plain": [
       "array([ 28.  ,  43.57,  57.33,  66.54,  71.96,  76.86,  80.67,  84.21,\n",
       "        86.81,  89.05,  90.64,  92.08,  93.34,  94.4 ,  95.38,  96.25,\n",
       "        96.99,  97.67,  98.13,  98.56,  98.92,  99.2 ,  99.47,  99.63,\n",
       "        99.76,  99.89,  99.96, 100.  ])"
      ]
     },
     "execution_count": 43,
     "metadata": {},
     "output_type": "execute_result"
    }
   ],
   "source": [
    "#Cumulative Variance explains\n",
    "var1=np.cumsum(np.round(pca.explained_variance_ratio_, decimals=4)*100)\n",
    "var1"
   ]
  },
  {
   "cell_type": "code",
   "execution_count": 46,
   "metadata": {},
   "outputs": [],
   "source": [
    "import matplotlib.pyplot as plt\n",
    "%matplotlib inline"
   ]
  },
  {
   "cell_type": "code",
   "execution_count": 47,
   "metadata": {},
   "outputs": [
    {
     "data": {
      "text/plain": [
       "[<matplotlib.lines.Line2D at 0x1c1b06cb390>]"
      ]
     },
     "execution_count": 47,
     "metadata": {},
     "output_type": "execute_result"
    },
    {
     "data": {
      "image/png": "[encoded data removed]",
      "text/plain": [
       "<Figure size 432x288 with 1 Axes>"
      ]
     },
     "metadata": {
      "needs_background": "light"
     },
     "output_type": "display_data"
    }
   ],
   "source": [
    "plt.plot(var1)"
   ]
  },
  {
   "cell_type": "code",
   "execution_count": 54,
   "metadata": {},
   "outputs": [
    {
     "name": "stdout",
     "output_type": "stream",
     "text": [
      "[[-2.51572119e+00  2.48589713e-01 -6.55414934e-01 -1.21065042e-01\n",
      "  -1.30584392e+00  2.82703047e+00 -7.22655328e-01 -9.05450561e-01\n",
      "  -3.03818916e-01 -1.59486433e+00 -2.12339336e-01  4.46548504e-01\n",
      "  -4.25358433e-01  2.91429502e-01  1.22068416e-01]\n",
      " [-8.36688248e-01  2.24229508e+00  1.55424369e+00 -5.29190015e-01\n",
      "   7.97883809e-01 -4.53258019e-01 -2.09838893e-01 -1.08577584e+00\n",
      "  -7.27323697e-01  1.58289723e-01 -6.24892511e-01 -9.18155318e-01\n",
      "  -1.75728673e-01  3.71862891e-02  3.24485364e-01]\n",
      " [-2.46190070e+00 -5.79612005e-01  1.26009673e-01  9.56000513e-01\n",
      "  -2.47241193e-01  1.18493290e+00  4.43539147e-01 -4.25311944e-01\n",
      "   1.39630366e+00 -1.85669005e+00  1.39767744e-01  4.08656549e-01\n",
      "  -1.79302216e-01  1.37540158e-01 -3.82639002e-01]\n",
      " [ 1.84909530e+00  4.90228411e+00  2.35545152e+00  1.44540206e+00\n",
      "  -1.38692492e+00 -2.21315365e+00  4.11209046e-02 -1.35845835e+00\n",
      "   1.83992342e+00 -4.88989749e-01 -8.06494616e-01 -1.17938680e+00\n",
      "  -7.87212028e-01 -7.04558420e-01  4.23217558e-01]\n",
      " [-8.99437804e-02  1.18718735e+00  3.26293557e+00 -1.31255397e+00\n",
      "   7.19531933e-01 -3.47465249e-01 -1.60529084e+00 -1.12649677e+00\n",
      "  -7.75436990e-01 -1.71365206e-01  3.89459277e-01  9.51973021e-01\n",
      "   1.04267381e-02 -1.51043571e-01 -5.84294659e-01]\n",
      " [ 4.75846686e+00  5.08352679e-02 -2.00110465e+00  1.26076613e-01\n",
      "  -3.69336170e-01 -9.37975684e-02 -2.36655230e-02  4.29659894e-01\n",
      "  -7.18093343e-01 -3.05736326e-01 -7.28623649e-01  7.21360334e-01\n",
      "  -5.02535421e-01  2.66346179e-01 -9.68612955e-02]\n",
      " [ 3.19274027e+00  8.79723479e-01 -1.21287475e+00 -2.06949220e+00\n",
      "   2.86620751e+00  1.14104047e+00 -9.32623975e-01  1.23574041e+00\n",
      "   7.25311801e-01 -1.74507143e+00 -9.11742633e-01 -1.37381067e+00\n",
      "   8.66370584e-01  4.58596251e-02  7.44946313e-02]\n",
      " [-2.10523252e+00  2.86779276e+00 -1.22645349e+00  5.23317492e-01\n",
      "  -1.84065236e-01 -8.17429363e-01 -6.79743142e-02 -4.17682489e-06\n",
      "  -1.47464271e+00  2.03806556e-01  2.36259268e-01 -3.82237391e-01\n",
      "  -8.13380712e-01 -3.87133692e-01 -1.36059024e-01]\n",
      " [-3.11749567e+00  3.13782097e+00 -1.20350284e+00 -9.63906742e-01\n",
      "  -9.93784604e-01  3.29723422e-01 -3.23130146e-01 -1.86680369e-01\n",
      "  -9.82369920e-01  2.77565835e-01 -1.51798096e-01  5.95153922e-02\n",
      "   2.15929656e-01 -7.61200513e-01 -3.16419024e-01]\n",
      " [-5.61515776e-01 -1.46314674e+00  3.96281523e+00 -4.86845244e-01\n",
      "   9.10019590e-02  9.60275953e-02  1.02840718e+00 -2.21415760e-01\n",
      "  -2.67505641e-01 -1.21733947e+00 -6.83938852e-01  5.45355098e-01\n",
      "   4.21446395e-01 -2.93124543e-01 -6.34885328e-01]\n",
      " [ 1.04593130e-01  1.64179678e+00 -2.48111862e+00 -4.63843951e-01\n",
      "  -7.83570721e-02 -1.52801093e+00 -1.23317134e-01  2.20667353e-01\n",
      "   6.96188234e-01  3.57792455e-01  1.19169857e+00  2.79671997e-01\n",
      "  -5.34741664e-01 -4.63815393e-03  7.54989769e-01]\n",
      " [-9.50831563e-02 -5.06902604e-01 -7.68988819e-01 -1.10498238e+00\n",
      "   2.94594325e-01  9.31624671e-02  4.63332768e-01  8.89661080e-01\n",
      "   2.91504228e-01 -7.40490009e-01  1.41581875e+00 -3.40042913e-01\n",
      "  -8.25891374e-02 -6.91504660e-01  2.13324755e-01]\n",
      " [-1.28186668e+00 -2.81225412e+00 -1.35310848e+00 -1.70921971e+00\n",
      "  -1.30335249e+00 -8.01614390e-01 -2.72894377e-01  6.71151832e-02\n",
      "   8.94179917e-01 -1.53392868e-01 -1.14778407e+00  7.39704242e-02\n",
      "  -4.89341179e-01 -4.92143217e-01  5.40771565e-01]\n",
      " [-2.15596430e+00 -7.67856455e-01 -1.07224245e+00  1.16839598e+00\n",
      "  -8.30391986e-01 -6.23042188e-01  1.09373699e-01 -7.14943452e-01\n",
      "   5.54039783e-01 -6.64771728e-01 -4.94657912e-01  7.07277614e-01\n",
      "   1.35819666e+00  5.29925250e-01  5.26026918e-01]\n",
      " [-2.33020528e+00 -4.64801430e-01 -9.42327179e-01  1.42684794e+00\n",
      "   2.65389287e-02  8.05857476e-01  8.79690654e-01 -1.13977417e-01\n",
      "   5.44083321e-01 -2.50360579e-01  2.97578868e-01 -2.71786668e-01\n",
      "  -7.10790866e-01 -2.49971277e-01  5.70046395e-01]\n",
      " [-3.54416385e+00  4.37456714e-01 -9.41574191e-01  1.20664790e+00\n",
      "   1.93197080e+00  1.35710613e+00  7.47698230e-01  1.44018389e-02\n",
      "   1.06016871e-01  1.27402578e-01  3.42911250e-01 -2.10041958e-01\n",
      "  -7.96339017e-01  2.62112892e-01 -7.71561660e-02]\n",
      " [ 4.22893420e+00 -4.32954957e+00  2.50415038e-01  2.44701952e+00\n",
      "   4.37436970e-01  7.68346185e-02  2.00239609e+00 -1.69964203e+00\n",
      "  -1.51004363e+00 -1.00385910e+00 -3.25997631e-01 -1.53287580e-01\n",
      "  -8.13971043e-01 -2.09229152e-01  7.08821973e-01]\n",
      " [ 5.25769384e+00  2.11929551e+00  5.88207035e-01 -1.65872825e+00\n",
      "   1.59575789e+00  1.78413281e+00 -1.55474671e+00  3.64842757e-01\n",
      "   8.72777368e-01  4.46047907e-01 -5.38699804e-01 -2.52437576e-01\n",
      "  -1.80637201e-02  1.25677140e+00  7.77171451e-01]\n",
      " [ 6.87041352e+00  8.44911817e-01 -1.65597186e+00 -7.99483899e-01\n",
      "  -2.94230122e-01  6.38706522e-01 -5.58356537e-01 -1.73972015e-01\n",
      "   1.68065137e+00  1.82141623e-01  6.74689110e-01  8.31674913e-01\n",
      "  -3.30744203e-01 -5.87738591e-01 -2.47711905e-01]\n",
      " [-1.26890018e+00 -5.75041181e-01 -1.61155849e+00 -9.85370388e-01\n",
      "  -6.83046368e-01 -7.48264310e-01  4.26748354e-01  2.52636392e-01\n",
      "   4.05225876e-01 -2.41982388e-02  7.14948754e-01  4.11702384e-01\n",
      "   2.20050104e-01  5.39645310e-01  5.30417548e-01]\n",
      " [-1.43832637e-01 -9.21986108e-01 -3.53077583e-01 -1.61825708e+00\n",
      "  -6.09476465e-01 -7.54472067e-01 -9.84563837e-01 -1.24678023e-01\n",
      "  -1.53817917e-01 -4.77156577e-01  1.12213611e+00 -6.47874791e-01\n",
      "  -7.28471871e-01  1.14072089e+00 -8.36837193e-01]\n",
      " [-4.50050980e+00  8.17325719e-02 -1.97555044e+00  3.48139924e-01\n",
      "  -3.32827755e-01  1.84781003e+00 -2.14911938e-01  8.87546875e-02\n",
      "   6.86169182e-01  1.69553081e+00 -4.23207380e-01 -5.99882290e-01\n",
      "  -4.14152714e-01 -3.09351745e-01  1.15918920e-01]\n",
      " [-1.82060897e+00 -1.91777509e-01 -1.31164409e+00 -8.87306846e-01\n",
      "  -1.48732254e+00 -1.28413309e+00 -4.53012663e-01 -1.40076276e+00\n",
      "  -6.65248635e-01 -1.05294196e+00  5.20492884e-01  9.68787269e-02\n",
      "   1.57411863e+00  8.61833489e-01  1.14080967e+00]\n",
      " [-7.86550090e-01 -2.12693156e+00  3.68802007e+00 -4.03108976e-01\n",
      "   1.07558061e+00  4.94612375e-01 -1.53115808e+00  1.88174562e-02\n",
      "  -1.53842942e-01  3.38087064e-01  8.94041754e-01  9.35077598e-01\n",
      "   6.19965584e-01 -5.82084887e-01  2.55026486e-01]\n",
      " [-1.76184829e+00 -2.01624100e+00 -8.28250797e-01 -1.90189595e+00\n",
      "  -2.29481740e+00 -1.92158731e-01 -5.51864482e-01  1.44749827e-01\n",
      "   7.47904082e-01  5.16960103e-01 -5.61918813e-01  7.48475731e-01\n",
      "   1.37105727e-01 -6.80560832e-02  1.34585897e-02]\n",
      " [-1.55290534e+00  2.97209230e+00  9.39984038e-01  1.13948788e+00\n",
      "   3.09475551e+00 -1.83705809e+00  1.04629874e+00 -1.75278898e+00\n",
      "  -9.64635489e-01  2.33515296e-01  8.82888556e-03 -1.75435111e-01\n",
      "   6.82216295e-01  3.56954541e-01  9.56433134e-02]\n",
      " [ 4.68448417e+00 -2.65049247e+00  5.26000510e-01 -1.84381429e-01\n",
      "  -1.21943700e+00  7.14303979e-01  2.00597610e-01 -8.33108168e-01\n",
      "  -1.04053878e+00 -3.89189834e-01  4.30015967e-01 -7.59222820e-01\n",
      "  -1.18450176e-04  3.84868731e-03 -9.73305503e-01]\n",
      " [ 3.54103684e+00  2.07389981e+00 -2.77247445e+00 -9.37480259e-03\n",
      "   1.38398607e-01 -4.68515415e-01  5.97352592e-01  2.32620201e-01\n",
      "  -1.12919906e+00 -2.43894482e-01 -5.72026464e-01  3.62874127e-01\n",
      "  -2.17992184e-01  5.79907148e-01 -1.10915323e+00]\n",
      " [ 7.42077905e-02 -2.98265692e-01  3.22295154e+00  8.66837716e-01\n",
      "   1.78364292e+00  8.95571049e-01 -1.51983145e+00  6.04406524e-01\n",
      "  -2.76155256e-01  5.79774594e-01  1.07700523e+00 -3.79730246e-01\n",
      "   1.72422812e-01 -3.46995595e-01  6.87462079e-01]\n",
      " [ 4.21137669e+00  2.83183674e+00 -3.16091608e+00  1.29263355e+00\n",
      "   7.12612128e-01 -2.20917616e-01  1.60479461e+00 -1.43966009e-01\n",
      "   7.92188333e-01  6.23165982e-01  4.50801658e-01  1.49796961e+00\n",
      "   4.86358716e-01 -3.97016449e-01 -8.60092587e-02]\n",
      " [-8.06681930e-01  1.83678478e+00  1.54589822e-01 -1.47129081e+00\n",
      "  -1.15271952e+00  1.53913928e+00 -5.46423953e-01  4.97454120e-01\n",
      "  -5.72620825e-01  6.69968553e-01 -2.30530846e-01 -7.81830249e-01\n",
      "   6.07463349e-01 -3.69409209e-01 -2.00750397e-01]\n",
      " [-2.96607077e+00 -3.67185239e+00 -1.11542979e+00 -1.22936300e+00\n",
      "   1.55566906e+00 -1.55019779e+00  1.69972151e-01  3.29343691e-01\n",
      "   7.48336104e-01  6.61291064e-01 -3.85997488e-01 -2.61891135e-01\n",
      "   1.56120239e-01  5.35448495e-01 -1.05737487e+00]\n",
      " [ 7.04711774e-01 -8.88933291e-01 -1.29446533e+00  1.08109023e-01\n",
      "   6.04672357e-01 -4.19432959e-01  4.73318070e-01  7.47147674e-01\n",
      "   2.32271515e-01 -2.84873715e-01  9.97220319e-02 -4.73022022e-01\n",
      "   3.59358933e-01 -6.38134018e-01 -4.41706378e-02]\n",
      " [-2.88687179e+00  8.76502068e-01  3.26985370e-01  8.08737441e-01\n",
      "   2.26458393e-01  1.29609221e+00  1.83591781e+00 -1.96686001e-01\n",
      "   6.69543516e-01  5.81790677e-01  1.33702538e+00 -1.90043392e-01\n",
      "  -4.10500506e-01  1.43972325e+00 -1.40143077e-01]\n",
      " [-1.10279676e+00  1.23418718e+00  2.91682384e+00  5.21573191e+00\n",
      "  -1.44382194e+00 -1.58104039e+00 -6.76949024e-01  2.95762059e+00\n",
      "  -1.01335986e-01 -4.03025429e-01  1.89736340e-01  6.74452460e-02\n",
      "   3.38835305e-01  1.70267022e-01  9.13460028e-02]\n",
      " [ 2.58104023e+00 -1.04955860e+00 -2.22122065e+00 -7.21239472e-01\n",
      "   3.06296789e-01 -4.44147376e-01 -1.43437382e-01 -2.00911316e-02\n",
      "  -5.98323476e-01  6.52536738e-01 -1.72686099e-01 -1.24042635e-01\n",
      "   8.40497981e-01 -5.76585989e-01  1.95900888e-01]\n",
      " [ 4.00072639e+00 -5.44543453e-01 -1.52223121e+00  4.56183605e-01\n",
      "   8.73354971e-01 -4.82751839e-03 -1.59697287e-01  1.31864139e-01\n",
      "  -1.11436759e+00  4.05890827e-01  6.63186379e-01  2.48151286e-01\n",
      "  -9.96376921e-02 -5.75718068e-01  1.31555912e-01]\n",
      " [-2.89971305e+00  9.63856640e-01 -1.04794144e+00 -1.12057256e-01\n",
      "  -8.84495231e-01  1.08557015e+00 -7.87845009e-01 -7.15842592e-01\n",
      "  -1.24150927e+00  3.28400111e-01 -2.76843074e-01  1.05111233e-01\n",
      "  -1.39260460e-01 -8.31498390e-01  1.97435536e-01]\n",
      " [-2.95096835e+00 -2.69239186e+00 -4.12609618e-02 -1.64436979e+00\n",
      "   1.07176396e+00 -2.25302582e+00 -5.37624204e-01  6.63705879e-01\n",
      "  -4.55654642e-01  9.47925327e-01  2.57914702e-02  3.72669142e-01\n",
      "  -3.69673917e-01 -9.75361363e-02 -2.89982823e-01]\n",
      " [-2.57931773e+00  1.07999084e+00  1.42601224e-02 -3.63392658e-01\n",
      "  -1.37337401e+00  1.55175167e+00 -1.28825332e-02 -3.30201091e-01\n",
      "  -3.32124907e-01 -4.26623752e-01  5.93851495e-01 -3.68498977e-01\n",
      "   2.95526669e-01 -2.45812071e-01 -5.73119184e-01]\n",
      " [-2.33642044e+00  2.58778538e+00 -7.81230408e-01  1.09120360e+00\n",
      "   2.88406763e-01  1.61647041e-01  8.46243294e-01 -5.08936747e-01\n",
      "   5.10637280e-01  1.25577033e+00 -1.22370145e+00  1.43120788e-01\n",
      "   8.71780925e-01  3.17870882e-01 -7.03754065e-01]\n",
      " [ 9.87923306e-01  2.04307283e+00  5.02993636e+00 -4.51139609e+00\n",
      "  -1.15626152e+00  3.08650906e-01  3.92988996e+00  2.69183244e+00\n",
      "  -5.28614628e-01  1.48261581e-01 -1.95611195e-01  2.71638426e-01\n",
      "  -2.02045414e-02  3.60440048e-02  4.55946296e-01]\n",
      " [ 5.47606778e+00 -3.03806044e+00  1.44854482e+00  2.01290261e+00\n",
      "  -2.84758867e+00  6.17565826e-01 -1.96324171e-01 -2.66241741e-01\n",
      "  -5.34186830e-01  2.15855468e+00 -1.47593798e-01 -9.71853917e-01\n",
      "   3.57538891e-01  8.84500929e-01  3.01728559e-01]\n",
      " [-1.30155396e-01  1.25128428e+00 -4.36954869e-01  3.20353609e+00\n",
      "  -1.11331879e-01 -1.78730296e-01 -1.88538909e+00  2.73631381e+00\n",
      "  -7.12280592e-01 -7.49816849e-01 -7.24721627e-01  7.09227965e-01\n",
      "  -4.90311298e-01  4.69584211e-01 -2.51394031e-01]\n",
      " [ 2.31123072e+00  5.18752870e-01  4.76766070e+00  1.99337067e-02\n",
      "  -6.37129780e-01 -8.72405325e-01 -7.67531921e-01 -1.75591920e+00\n",
      "   1.74379284e+00  4.00798937e-01  2.27889688e-01  3.26412241e-01\n",
      "  -2.31315388e-01 -7.76824936e-02 -8.36915673e-01]\n",
      " [-5.64129383e-01 -4.22279929e+00 -2.11117122e-01  2.93525027e+00\n",
      "   8.26872180e-01  6.96793944e-01  1.06866517e+00  6.22405547e-01\n",
      "   1.14980702e+00  8.91601002e-02  1.10191384e-02 -7.92245357e-01\n",
      "   9.54267109e-01 -8.09794501e-01 -5.27164786e-01]\n",
      " [-1.00227219e+00 -2.29593173e+00 -8.52066226e-01 -1.66492815e+00\n",
      "   7.83470647e-03 -2.77031592e+00 -4.43756889e-01  5.23877480e-01\n",
      "   7.75752933e-02 -5.28575161e-01 -1.28439125e-01 -9.20239585e-01\n",
      "  -7.25853679e-01  6.80826857e-02  1.36332967e-01]\n",
      " [-1.67840856e+00 -2.80283834e+00  1.91623728e+00  1.28648747e-01\n",
      "   1.89993469e+00  9.13350746e-01 -1.07659354e-01 -4.04287849e-01\n",
      "  -3.07393416e-02  7.32797381e-01 -1.38442953e+00  1.20424104e+00\n",
      "  -1.03840629e+00  2.26358594e-01  7.21699574e-01]]\n"
     ]
    }
   ],
   "source": [
    "#Looking at above plot I will pick 15 variables\n",
    "pca = PCA(n_components=15)\n",
    "pca.fit(X)\n",
    "X1=pca.fit_transform(X)\n",
    "\n",
    "print(X1)"
   ]
  },
  {
   "cell_type": "code",
   "execution_count": 48,
   "metadata": {},
   "outputs": [
    {
     "data": {
      "text/plain": [
       "array([[ 1.        ,  0.51532175,  0.23462007,  0.57112495,  0.24488281,\n",
       "         0.82757313,  0.23225534,  0.33901486, -0.01045925,  0.45691113,\n",
       "         0.66423612,  0.41365223,  0.47220486, -0.39122986,  0.10945181,\n",
       "        -0.34813298, -0.14998707,  0.36790007,  0.57310657, -0.00689066,\n",
       "        -0.15053092, -0.3307189 , -0.3855448 ,  0.02657035,  0.52647604,\n",
       "         0.52545952, -0.24163724, -0.23750949],\n",
       "       [ 0.51532175,  1.        ,  0.30668156,  0.4176532 ,  0.33897052,\n",
       "         0.42318702,  0.42248228, -0.0271459 ,  0.27820399,  0.26717717,\n",
       "         0.1265098 ,  0.37024203,  0.0696034 , -0.35036045,  0.23536165,\n",
       "         0.03983907, -0.42117415,  0.52175331,  0.53391946,  0.06612425,\n",
       "        -0.14246009, -0.18834068, -0.2929341 ,  0.15863212,  0.04304594,\n",
       "         0.35516782, -0.22770087, -0.30505632],\n",
       "       [ 0.23462007,  0.30668156,  1.        ,  0.03466489,  0.02315514,\n",
       "         0.26500951,  0.08448246, -0.10229254, -0.08421699,  0.30646009,\n",
       "         0.0574975 ,  0.04330262,  0.07574365, -0.18794576,  0.15244332,\n",
       "        -0.01770439, -0.09549017,  0.65275864,  0.11818526, -0.03732721,\n",
       "         0.06603769, -0.0827366 , -0.20046823,  0.34131622, -0.03855049,\n",
       "         0.28615944, -0.57289335, -0.57008343],\n",
       "       [ 0.57112495,  0.4176532 ,  0.03466489,  1.        ,  0.14473838,\n",
       "         0.47910847,  0.40818604, -0.03370761,  0.12318706,  0.232927  ,\n",
       "         0.10529549,  0.49693042,  0.60754957, -0.42466995,  0.57337815,\n",
       "         0.10129696, -0.19550592,  0.27672977,  0.80219064,  0.62256315,\n",
       "        -0.31343317, -0.1070356 , -0.35320356, -0.1407829 ,  0.21230286,\n",
       "         0.37410851, -0.01038033, -0.00169804],\n",
       "       [ 0.24488281,  0.33897052,  0.02315514,  0.14473838,  1.        ,\n",
       "         0.46646465,  0.53404656,  0.48963917,  0.08426594,  0.02021856,\n",
       "         0.214568  ,  0.25555156, -0.09434504,  0.24324673, -0.392856  ,\n",
       "        -0.11847848,  0.26883576, -0.03293982,  0.04287723, -0.25025553,\n",
       "         0.43162887,  0.02452661,  0.26321244, -0.20006526,  0.09777926,\n",
       "         0.01091097,  0.04970805, -0.01034852],\n",
       "       [ 0.82757313,  0.42318702,  0.26500951,  0.47910847,  0.46646465,\n",
       "         1.        ,  0.38380652,  0.54388161, -0.01891584,  0.58665189,\n",
       "         0.63820178,  0.34065367,  0.35172094, -0.21686433,  0.02178761,\n",
       "        -0.40020857, -0.0399822 ,  0.34243768,  0.40875829, -0.11615243,\n",
       "         0.09702166, -0.39541141, -0.28901572,  0.07718129,  0.49903351,\n",
       "         0.48539697, -0.36436246, -0.37123568],\n",
       "       [ 0.23225534,  0.42248228,  0.08448246,  0.40818604,  0.53404656,\n",
       "         0.38380652,  1.        ,  0.07379967,  0.21326252,  0.06986716,\n",
       "         0.00205873,  0.38618623,  0.14035878, -0.03958418,  0.07120639,\n",
       "        -0.15647487,  0.01293601,  0.31253409,  0.45981859,  0.14436728,\n",
       "         0.06094961, -0.11662771,  0.03491029, -0.12518539,  0.17157053,\n",
       "         0.14326064,  0.01550611, -0.05220712],\n",
       "       [ 0.33901486, -0.0271459 , -0.10229254, -0.03370761,  0.48963917,\n",
       "         0.54388161,  0.07379967,  1.        , -0.1445856 ,  0.13248242,\n",
       "         0.4259871 ,  0.29280697,  0.05443024,  0.37737286, -0.46799788,\n",
       "        -0.37265693,  0.29193204, -0.2314125 , -0.12570967, -0.38377568,\n",
       "         0.27766294, -0.15066159,  0.08142596, -0.04000322,  0.37807928,\n",
       "         0.10600517, -0.00783666,  0.01904155],\n",
       "       [-0.01045925,  0.27820399, -0.08421699,  0.12318706,  0.08426594,\n",
       "        -0.01891584,  0.21326252, -0.1445856 ,  1.        ,  0.17785376,\n",
       "        -0.24679489, -0.08050273, -0.08894171,  0.21360164,  0.14613081,\n",
       "         0.31950233, -0.30715629,  0.05496587,  0.03170513,  0.11671479,\n",
       "         0.06359547, -0.25445095,  0.02969258, -0.07019562, -0.15704704,\n",
       "        -0.00629152,  0.01801837, -0.02496966],\n",
       "       [ 0.45691113,  0.26717717,  0.30646009,  0.232927  ,  0.02021856,\n",
       "         0.58665189,  0.06986716,  0.13248242,  0.17785376,  1.        ,\n",
       "         0.42214999,  0.02292633,  0.25826539, -0.32809325,  0.19510915,\n",
       "        -0.00876104, -0.30458161,  0.39411751,  0.19606818,  0.06374823,\n",
       "         0.12470063, -0.43481163, -0.37692236,  0.32124548,  0.14475125,\n",
       "         0.4314208 , -0.68535481, -0.68498756],\n",
       "       [ 0.66423612,  0.1265098 ,  0.0574975 ,  0.10529549,  0.214568  ,\n",
       "         0.63820178,  0.00205873,  0.4259871 , -0.24679489,  0.42214999,\n",
       "         1.        ,  0.29094087,  0.36749789, -0.33405038, -0.07344451,\n",
       "        -0.62557304, -0.051006  ,  0.08275281,  0.24403173, -0.28131137,\n",
       "        -0.04127225, -0.33599378, -0.28780448, -0.05254023,  0.59883602,\n",
       "         0.506312  , -0.17063404, -0.17247505],\n",
       "       [ 0.41365223,  0.37024203,  0.04330262,  0.49693042,  0.25555156,\n",
       "         0.34065367,  0.38618623,  0.29280697, -0.08050273,  0.02292633,\n",
       "         0.29094087,  1.        ,  0.31364688, -0.29588787,  0.37418176,\n",
       "        -0.17763204, -0.16108695,  0.21647671,  0.57947172,  0.39939849,\n",
       "        -0.2953432 , -0.1114016 , -0.27436411, -0.03250631,  0.36881782,\n",
       "         0.49395554,  0.02169902, -0.00489496],\n",
       "       [ 0.47220486,  0.0696034 ,  0.07574365,  0.60754957, -0.09434504,\n",
       "         0.35172094,  0.14035878,  0.05443024, -0.08894171,  0.25826539,\n",
       "         0.36749789,  0.31364688,  1.        , -0.44356421,  0.38911292,\n",
       "        -0.29639208, -0.0170463 ,  0.17058096,  0.63266942,  0.32636191,\n",
       "        -0.39403679, -0.10944662, -0.31710003, -0.12370181,  0.46095109,\n",
       "         0.36732391,  0.12178584,  0.11195833],\n",
       "       [-0.39122986, -0.35036045, -0.18794576, -0.42466995,  0.24324673,\n",
       "        -0.21686433, -0.03958418,  0.37737286,  0.21360164, -0.32809325,\n",
       "        -0.33405038, -0.29588787, -0.44356421,  1.        , -0.58567937,\n",
       "         0.10725631,  0.53881638, -0.45260885, -0.56398665, -0.37365485,\n",
       "         0.3945246 ,  0.12947035,  0.52763441, -0.23280091, -0.19580467,\n",
       "        -0.52163413,  0.29582214,  0.35332002],\n",
       "       [ 0.10945181,  0.23536165,  0.15244332,  0.57337815, -0.392856  ,\n",
       "         0.02178761,  0.07120639, -0.46799788,  0.14613081,  0.19510915,\n",
       "        -0.07344451,  0.37418176,  0.38911292, -0.58567937,  1.        ,\n",
       "         0.14853296, -0.50701046,  0.40568543,  0.56905844,  0.76218498,\n",
       "        -0.56825446, -0.12536473, -0.48148041,  0.12260309,  0.05755142,\n",
       "         0.43411414, -0.15331734, -0.18065965],\n",
       "       [-0.34813298,  0.03983907, -0.01770439,  0.10129696, -0.11847848,\n",
       "        -0.40020857, -0.15647487, -0.37265693,  0.31950233, -0.00876104,\n",
       "        -0.62557304, -0.17763204, -0.29639208,  0.10725631,  0.14853296,\n",
       "         1.        , -0.24513623, -0.03954359, -0.0992169 ,  0.41919331,\n",
       "         0.26889641,  0.36329012,  0.14443176, -0.05974379, -0.76444626,\n",
       "        -0.35633238, -0.14678963, -0.12943364],\n",
       "       [-0.14998707, -0.42117415, -0.09549017, -0.19550592,  0.26883576,\n",
       "        -0.0399822 ,  0.01293601,  0.29193204, -0.30715629, -0.30458161,\n",
       "        -0.051006  , -0.16108695, -0.0170463 ,  0.53881638, -0.50701046,\n",
       "        -0.24513623,  1.        , -0.41073606, -0.24444813, -0.32735962,\n",
       "         0.18800833,  0.24056971,  0.45110949, -0.35126884,  0.1417392 ,\n",
       "        -0.3726137 ,  0.41432619,  0.48612626],\n",
       "       [ 0.36790007,  0.52175331,  0.65275864,  0.27672977, -0.03293982,\n",
       "         0.34243768,  0.31253409, -0.2314125 ,  0.05496587,  0.39411751,\n",
       "         0.08275281,  0.21647671,  0.17058096, -0.45260885,  0.40568543,\n",
       "        -0.03954359, -0.41073606,  1.        ,  0.38899477,  0.24504505,\n",
       "        -0.24200931, -0.33655068, -0.54807002,  0.63315059, -0.00282167,\n",
       "         0.50052551, -0.61593167, -0.64677053],\n",
       "       [ 0.57310657,  0.53391946,  0.11818526,  0.80219064,  0.04287723,\n",
       "         0.40875829,  0.45981859, -0.12570967,  0.03170513,  0.19606818,\n",
       "         0.24403173,  0.57947172,  0.63266942, -0.56398665,  0.56905844,\n",
       "        -0.0992169 , -0.24444813,  0.38899477,  1.        ,  0.46451406,\n",
       "        -0.50075467, -0.0793601 , -0.34392709, -0.13873243,  0.35915442,\n",
       "         0.45539516,  0.02921476, -0.00726317],\n",
       "       [-0.00689066,  0.06612425, -0.03732721,  0.62256315, -0.25025553,\n",
       "        -0.11615243,  0.14436728, -0.38377568,  0.11671479,  0.06374823,\n",
       "        -0.28131137,  0.39939849,  0.32636191, -0.37365485,  0.76218498,\n",
       "         0.41919331, -0.32735962,  0.24504505,  0.46451406,  1.        ,\n",
       "        -0.36071016, -0.08730366, -0.37563192,  0.03328438, -0.11874883,\n",
       "         0.25572421, -0.03003129, -0.03368838],\n",
       "       [-0.15053092, -0.14246009,  0.06603769, -0.31343317,  0.43162887,\n",
       "         0.09702166,  0.06094961,  0.27766294,  0.06359547,  0.12470063,\n",
       "        -0.04127225, -0.2953432 , -0.39403679,  0.3945246 , -0.56825446,\n",
       "         0.26889641,  0.18800833, -0.24200931, -0.50075467, -0.36071016,\n",
       "         1.        ,  0.21212004,  0.38213435, -0.15921537, -0.28077117,\n",
       "        -0.37939072, -0.23535002, -0.23764893],\n",
       "       [-0.3307189 , -0.18834068, -0.0827366 , -0.1070356 ,  0.02452661,\n",
       "        -0.39541141, -0.11662771, -0.15066159, -0.25445095, -0.43481163,\n",
       "        -0.33599378, -0.1114016 , -0.10944662,  0.12947035, -0.12536473,\n",
       "         0.36329012,  0.24056971, -0.33655068, -0.0793601 , -0.08730366,\n",
       "         0.21212004,  1.        ,  0.55692   , -0.45798482, -0.37961033,\n",
       "        -0.51198525,  0.2222299 ,  0.24071325],\n",
       "       [-0.3855448 , -0.2929341 , -0.20046823, -0.35320356,  0.26321244,\n",
       "        -0.28901572,  0.03491029,  0.08142596,  0.02969258, -0.37692236,\n",
       "        -0.28780448, -0.27436411, -0.31710003,  0.52763441, -0.48148041,\n",
       "         0.14443176,  0.45110949, -0.54807002, -0.34392709, -0.37563192,\n",
       "         0.38213435,  0.55692   ,  1.        , -0.54741521, -0.08176145,\n",
       "        -0.62468189,  0.36631958,  0.33417001],\n",
       "       [ 0.02657035,  0.15863212,  0.34131622, -0.1407829 , -0.20006526,\n",
       "         0.07718129, -0.12518539, -0.04000322, -0.07019562,  0.32124548,\n",
       "        -0.05254023, -0.03250631, -0.12370181, -0.23280091,  0.12260309,\n",
       "        -0.05974379, -0.35126884,  0.63315059, -0.13873243,  0.03328438,\n",
       "        -0.15921537, -0.45798482, -0.54741521,  1.        , -0.12073881,\n",
       "         0.46163113, -0.56540768, -0.56889325],\n",
       "       [ 0.52647604,  0.04304594, -0.03855049,  0.21230286,  0.09777926,\n",
       "         0.49903351,  0.17157053,  0.37807928, -0.15704704,  0.14475125,\n",
       "         0.59883602,  0.36881782,  0.46095109, -0.19580467,  0.05755142,\n",
       "        -0.76444626,  0.1417392 , -0.00282167,  0.35915442, -0.11874883,\n",
       "        -0.28077117, -0.37961033, -0.08176145, -0.12073881,  1.        ,\n",
       "         0.38206242,  0.14789194,  0.11967015],\n",
       "       [ 0.52545952,  0.35516782,  0.28615944,  0.37410851,  0.01091097,\n",
       "         0.48539697,  0.14326064,  0.10600517, -0.00629152,  0.4314208 ,\n",
       "         0.506312  ,  0.49395554,  0.36732391, -0.52163413,  0.43411414,\n",
       "        -0.35633238, -0.3726137 ,  0.50052551,  0.45539516,  0.25572421,\n",
       "        -0.37939072, -0.51198525, -0.62468189,  0.46163113,  0.38206242,\n",
       "         1.        , -0.34787197, -0.36667432],\n",
       "       [-0.24163724, -0.22770087, -0.57289335, -0.01038033,  0.04970805,\n",
       "        -0.36436246,  0.01550611, -0.00783666,  0.01801837, -0.68535481,\n",
       "        -0.17063404,  0.02169902,  0.12178584,  0.29582214, -0.15331734,\n",
       "        -0.14678963,  0.41432619, -0.61593167,  0.02921476, -0.03003129,\n",
       "        -0.23535002,  0.2222299 ,  0.36631958, -0.56540768,  0.14789194,\n",
       "        -0.34787197,  1.        ,  0.96759975],\n",
       "       [-0.23750949, -0.30505632, -0.57008343, -0.00169804, -0.01034852,\n",
       "        -0.37123568, -0.05220712,  0.01904155, -0.02496966, -0.68498756,\n",
       "        -0.17247505, -0.00489496,  0.11195833,  0.35332002, -0.18065965,\n",
       "        -0.12943364,  0.48612626, -0.64677053, -0.00726317, -0.03368838,\n",
       "        -0.23764893,  0.24071325,  0.33417001, -0.56889325,  0.11967015,\n",
       "        -0.36667432,  0.96759975,  1.        ]])"
      ]
     },
     "execution_count": 48,
     "metadata": {},
     "output_type": "execute_result"
    }
   ],
   "source": [
    "cor = np.corrcoef(X.T)\n",
    "cor"
   ]
  },
  {
   "cell_type": "code",
   "execution_count": null,
   "metadata": {},
   "outputs": [],
   "source": []
  }
 ],
 "metadata": {
  "kernelspec": {
   "display_name": "Python 3",
   "language": "python",
   "name": "python3"
  },
  "language_info": {
   "codemirror_mode": {
    "name": "ipython",
    "version": 3
   },
   "file_extension": ".py",
   "mimetype": "text/x-python",
   "name": "python",
   "nbconvert_exporter": "python",
   "pygments_lexer": "ipython3",
   "version": "3.6.7"
  }
 },
 "nbformat": 4,
 "nbformat_minor": 2
}
